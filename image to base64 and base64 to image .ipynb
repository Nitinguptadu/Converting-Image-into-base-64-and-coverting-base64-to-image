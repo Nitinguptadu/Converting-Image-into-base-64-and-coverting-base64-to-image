{
 "cells": [
  {
   "cell_type": "code",
   "execution_count": 1,
   "metadata": {},
   "outputs": [],
   "source": [
    "import re\n",
    "import base64\n",
    "import numpy as np\n",
    "\n",
    "from PIL import Image\n",
    "from io import BytesIO\n"
   ]
  },
  {
   "cell_type": "code",
   "execution_count": 2,
   "metadata": {},
   "outputs": [
    {
     "data": {
      "application/javascript": [
       "\n",
       "        if (window._pyforest_update_imports_cell) { window._pyforest_update_imports_cell('import os'); }\n",
       "    "
      ],
      "text/plain": [
       "<IPython.core.display.Javascript object>"
      ]
     },
     "metadata": {},
     "output_type": "display_data"
    }
   ],
   "source": [
    "k = []\n",
    "l = []\n",
    "\n",
    "for i in os.listdir(\"test1/\"):\n",
    "    k.append(i)\n",
    "    with open(\"test1/\"+i, \"rb\") as img_file:\n",
    "        my_string = base64.b64encode(img_file.read())\n",
    "        l.append(my_string)\n",
    "        \n",
    "    "
   ]
  },
  {
   "cell_type": "code",
   "execution_count": 3,
   "metadata": {},
   "outputs": [
    {
     "data": {
      "application/javascript": [
       "\n",
       "        if (window._pyforest_update_imports_cell) { window._pyforest_update_imports_cell('import pandas as pd\\nimport os'); }\n",
       "    "
      ],
      "text/plain": [
       "<IPython.core.display.Javascript object>"
      ]
     },
     "metadata": {},
     "output_type": "display_data"
    }
   ],
   "source": [
    "base_64 = pd.DataFrame(l)"
   ]
  },
  {
   "cell_type": "code",
   "execution_count": 4,
   "metadata": {},
   "outputs": [
    {
     "data": {
      "application/javascript": [
       "\n",
       "        if (window._pyforest_update_imports_cell) { window._pyforest_update_imports_cell('import pandas as pd\\nimport os'); }\n",
       "    "
      ],
      "text/plain": [
       "<IPython.core.display.Javascript object>"
      ]
     },
     "metadata": {},
     "output_type": "display_data"
    }
   ],
   "source": [
    "image_name = pd.DataFrame(k)"
   ]
  },
  {
   "cell_type": "code",
   "execution_count": 5,
   "metadata": {},
   "outputs": [
    {
     "data": {
      "application/javascript": [
       "\n",
       "        if (window._pyforest_update_imports_cell) { window._pyforest_update_imports_cell('import pandas as pd\\nimport os'); }\n",
       "    "
      ],
      "text/plain": [
       "<IPython.core.display.Javascript object>"
      ]
     },
     "metadata": {},
     "output_type": "display_data"
    }
   ],
   "source": [
    "df = pd.concat([image_name,base_64],axis =1)"
   ]
  },
  {
   "cell_type": "code",
   "execution_count": 6,
   "metadata": {},
   "outputs": [
    {
     "data": {
      "text/html": [
       "<div>\n",
       "<style scoped>\n",
       "    .dataframe tbody tr th:only-of-type {\n",
       "        vertical-align: middle;\n",
       "    }\n",
       "\n",
       "    .dataframe tbody tr th {\n",
       "        vertical-align: top;\n",
       "    }\n",
       "\n",
       "    .dataframe thead th {\n",
       "        text-align: right;\n",
       "    }\n",
       "</style>\n",
       "<table border=\"1\" class=\"dataframe\">\n",
       "  <thead>\n",
       "    <tr style=\"text-align: right;\">\n",
       "      <th></th>\n",
       "      <th>0</th>\n",
       "      <th>0</th>\n",
       "    </tr>\n",
       "  </thead>\n",
       "  <tbody>\n",
       "    <tr>\n",
       "      <th>0</th>\n",
       "      <td>11835.jpg</td>\n",
       "      <td>b'/9j/4AAQSkZJRgABAQAAAQABAAD/2wBDAAoHBwgHBgoI...</td>\n",
       "    </tr>\n",
       "    <tr>\n",
       "      <th>1</th>\n",
       "      <td>4737.jpg</td>\n",
       "      <td>b'/9j/4AAQSkZJRgABAQAAAQABAAD/2wBDAAoHBwgHBgoI...</td>\n",
       "    </tr>\n",
       "    <tr>\n",
       "      <th>2</th>\n",
       "      <td>3323.jpg</td>\n",
       "      <td>b'/9j/4AAQSkZJRgABAQAAAQABAAD/2wBDAAoHBwgHBgoI...</td>\n",
       "    </tr>\n",
       "    <tr>\n",
       "      <th>3</th>\n",
       "      <td>4758.jpg</td>\n",
       "      <td>b'/9j/4AAQSkZJRgABAQAAAQABAAD/2wBDAAoHBwgHBgoI...</td>\n",
       "    </tr>\n",
       "    <tr>\n",
       "      <th>4</th>\n",
       "      <td>5678.jpg</td>\n",
       "      <td>b'/9j/4AAQSkZJRgABAQAAAQABAAD/2wBDAAoHBwgHBgoI...</td>\n",
       "    </tr>\n",
       "    <tr>\n",
       "      <th>...</th>\n",
       "      <td>...</td>\n",
       "      <td>...</td>\n",
       "    </tr>\n",
       "    <tr>\n",
       "      <th>12495</th>\n",
       "      <td>6422.jpg</td>\n",
       "      <td>b'/9j/4AAQSkZJRgABAQAAAQABAAD/2wBDAAoHBwgHBgoI...</td>\n",
       "    </tr>\n",
       "    <tr>\n",
       "      <th>12496</th>\n",
       "      <td>3040.jpg</td>\n",
       "      <td>b'/9j/4AAQSkZJRgABAQAAAQABAAD/2wBDAAoHBwgHBgoI...</td>\n",
       "    </tr>\n",
       "    <tr>\n",
       "      <th>12497</th>\n",
       "      <td>10816.jpg</td>\n",
       "      <td>b'/9j/4AAQSkZJRgABAQAAAQABAAD/2wBDAAoHBwgHBgoI...</td>\n",
       "    </tr>\n",
       "    <tr>\n",
       "      <th>12498</th>\n",
       "      <td>2124.jpg</td>\n",
       "      <td>b'/9j/4AAQSkZJRgABAQAAAQABAAD/2wBDAAoHBwgHBgoI...</td>\n",
       "    </tr>\n",
       "    <tr>\n",
       "      <th>12499</th>\n",
       "      <td>11739.jpg</td>\n",
       "      <td>b'/9j/4AAQSkZJRgABAQAAAQABAAD/2wBDAAoHBwgHBgoI...</td>\n",
       "    </tr>\n",
       "  </tbody>\n",
       "</table>\n",
       "<p>12500 rows × 2 columns</p>\n",
       "</div>"
      ],
      "text/plain": [
       "               0                                                  0\n",
       "0      11835.jpg  b'/9j/4AAQSkZJRgABAQAAAQABAAD/2wBDAAoHBwgHBgoI...\n",
       "1       4737.jpg  b'/9j/4AAQSkZJRgABAQAAAQABAAD/2wBDAAoHBwgHBgoI...\n",
       "2       3323.jpg  b'/9j/4AAQSkZJRgABAQAAAQABAAD/2wBDAAoHBwgHBgoI...\n",
       "3       4758.jpg  b'/9j/4AAQSkZJRgABAQAAAQABAAD/2wBDAAoHBwgHBgoI...\n",
       "4       5678.jpg  b'/9j/4AAQSkZJRgABAQAAAQABAAD/2wBDAAoHBwgHBgoI...\n",
       "...          ...                                                ...\n",
       "12495   6422.jpg  b'/9j/4AAQSkZJRgABAQAAAQABAAD/2wBDAAoHBwgHBgoI...\n",
       "12496   3040.jpg  b'/9j/4AAQSkZJRgABAQAAAQABAAD/2wBDAAoHBwgHBgoI...\n",
       "12497  10816.jpg  b'/9j/4AAQSkZJRgABAQAAAQABAAD/2wBDAAoHBwgHBgoI...\n",
       "12498   2124.jpg  b'/9j/4AAQSkZJRgABAQAAAQABAAD/2wBDAAoHBwgHBgoI...\n",
       "12499  11739.jpg  b'/9j/4AAQSkZJRgABAQAAAQABAAD/2wBDAAoHBwgHBgoI...\n",
       "\n",
       "[12500 rows x 2 columns]"
      ]
     },
     "execution_count": 6,
     "metadata": {},
     "output_type": "execute_result"
    }
   ],
   "source": [
    "df"
   ]
  },
  {
   "cell_type": "code",
   "execution_count": 8,
   "metadata": {},
   "outputs": [],
   "source": [
    "\n",
    "for a, b in df.itertuples(index=False):\n",
    "    imgdata = base64.b64decode(b)\n",
    "    filename = \"new/\" + a\n",
    "    with open(filename, 'wb') as f:\n",
    "        f.write(imgdata)\n",
    "    "
   ]
  },
  {
   "cell_type": "code",
   "execution_count": null,
   "metadata": {},
   "outputs": [],
   "source": []
  }
 ],
 "metadata": {
  "kernelspec": {
   "display_name": "Python 3",
   "language": "python",
   "name": "python3"
  },
  "language_info": {
   "codemirror_mode": {
    "name": "ipython",
    "version": 3
   },
   "file_extension": ".py",
   "mimetype": "text/x-python",
   "name": "python",
   "nbconvert_exporter": "python",
   "pygments_lexer": "ipython3",
   "version": "3.7.5"
  }
 },
 "nbformat": 4,
 "nbformat_minor": 2
}
